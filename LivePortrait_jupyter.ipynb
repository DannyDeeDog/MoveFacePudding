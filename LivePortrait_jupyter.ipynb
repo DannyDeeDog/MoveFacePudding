{
  "cells": [
    {
      "cell_type": "code",
      "execution_count": null,
      "metadata": {
        "id": "f1bb8a14"
      },
      "outputs": [],
      "source": [
        "from google.colab import drive\n",
        "drive.mount('/content/drive', force_remount=True)\n",
        "\n",
        "%cd /content/drive/MyDrive\n",
        "%cd LivePortrait\n",
        "\n",
        "!git lfs install\n",
        "\n",
        "from IPython.display import display, HTML\n",
        "display(HTML(\"<h2 style='color: green;'>✅ Gotowe! Wszystko zakończone pomyślnie.</h2>\"))"
      ]
    },
    {
      "cell_type": "code",
      "source": [
        "#!git clone -b dev https://github.com/camenduru/LivePortrait\n",
        "%cd LivePortrait"
      ],
      "metadata": {
        "id": "xpSq6u_nhkyg"
      },
      "execution_count": null,
      "outputs": []
    },
    {
      "cell_type": "code",
      "execution_count": null,
      "metadata": {
        "id": "VjYy0F2gZIPR"
      },
      "outputs": [],
      "source": [
        "#!rm -rf /MyDrive/LivePortrait/pretrained_weights\n",
        "#!git clone https://huggingface.co/camenduru/LivePortrait /MyDrive/LivePortrait/pretrained_weights\n",
        "\n",
        "#!pip install tyro==0.8.5 onnxruntime-gpu==1.18.1 onnx==1.16.1 gradio==4.36.1 colorama\n",
        "\n",
        "%cd /content/drive/MyDrive/LivePortrait/src/utils/dependencies/insightface/thirdparty/face3d/mesh/cython\n",
        "\n",
        "!python setup.py build_ext --inplace"
      ]
    },
    {
      "cell_type": "code",
      "execution_count": null,
      "metadata": {
        "id": "yPMqNT1hhInF"
      },
      "outputs": [],
      "source": [
        "%cd /MyDrive/LivePortrait\n",
        "!python /content/drive/MyDrive/LivePortrait/inference.py -s /content/drive/MyDrive/LivePortrait/assets/examples/source/Picture.jpg -d /content/drive/MyDrive/LivePortrait/assets/examples/driving/d7.mp4\n"
      ]
    }
  ],
  "metadata": {
    "accelerator": "GPU",
    "colab": {
      "gpuType": "T4",
      "provenance": []
    },
    "kernelspec": {
      "display_name": "Python 3",
      "name": "python3"
    },
    "language_info": {
      "name": "python"
    }
  },
  "nbformat": 4,
  "nbformat_minor": 0
}